{
 "metadata": {
  "language_info": {
   "codemirror_mode": {
    "name": "ipython",
    "version": 3
   },
   "file_extension": ".py",
   "mimetype": "text/x-python",
   "name": "python",
   "nbconvert_exporter": "python",
   "pygments_lexer": "ipython3",
   "version": "3.7.4-final"
  },
  "orig_nbformat": 2,
  "kernelspec": {
   "name": "python_defaultSpec_1598126223353",
   "display_name": "Python 3.7.4 64-bit ('ML': venv)"
  }
 },
 "nbformat": 4,
 "nbformat_minor": 2,
 "cells": [
  {
   "cell_type": "markdown",
   "metadata": {},
   "source": [
    "### Clean\n",
    "- check data types\n",
    "- change dtypes astype\n",
    "- reorg\n",
    "### Prep\n",
    "- select features\n",
    "- normalize data using standardScalar\n",
    "- split data train_and_test_split\n",
    "- preprocessing - fit_transform,label_encoder, standardScalar\n",
    "- model_selection - train_and_test_split\n",
    "\n",
    "### Model\n",
    "- linear_model - LinearRegression\n",
    "- cluster - KMeans\n",
    "- neighbors - KNeighborsClassifer\n",
    "- tree - DecisionTreeClassifier\n",
    "- SVM - SVC\n",
    "\n",
    "### Evaluate\n",
    "- metrics - r2_score, report"
   ]
  },
  {
   "cell_type": "code",
   "execution_count": 3,
   "metadata": {},
   "outputs": [],
   "source": [
    "import pandas as pd\n",
    "from sklearn import preprocessing, model_selection\n",
    "\n",
    "df = pd.read_csv('99. Loan Calc Prediction/loan_train.csv')\n",
    "\n",
    "# clean\n",
    "rearrange_cols = ['Principal', 'terms','effective_date', 'due_date', 'age', 'education', 'Gender','loan_status']\n",
    "df = df[rearrange_cols]\n",
    "\n",
    "# prep\n",
    "label_encoder = preprocessing.LabelEncoder()\n",
    "df['education'] = label_encoder.fit_transform(df['education'].values)\n",
    "df['Gender'] = label_encoder.fit_transform(df['Gender'].values)\n",
    "df['loan_status'] = label_encoder.fit_transform(df['loan_status'].values)\n",
    "\n",
    "\n",
    "features = ['Principal', 'terms','age', 'education', 'Gender']\n",
    "y = df['loan_status'].values\n",
    "x = df[features].values\n",
    "\n",
    "x = preprocessing.StandardScaler().fit_transform(x)\n",
    "x_train, x_test, y_train, y_test = model_selection.train_test_split(x,y, test_size=0.2, random_state=4)\n",
    "\n"
   ]
  },
  {
   "cell_type": "code",
   "execution_count": null,
   "metadata": {},
   "outputs": [],
   "source": []
  }
 ]
}