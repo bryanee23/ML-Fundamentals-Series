{
 "metadata": {
  "language_info": {
   "codemirror_mode": {
    "name": "ipython",
    "version": 3
   },
   "file_extension": ".py",
   "mimetype": "text/x-python",
   "name": "python",
   "nbconvert_exporter": "python",
   "pygments_lexer": "ipython3",
   "version": "3.7.4-final"
  },
  "orig_nbformat": 2,
  "kernelspec": {
   "name": "python_defaultSpec_1600739893963",
   "display_name": "Python 3.7.4 64-bit ('ML': venv)"
  }
 },
 "nbformat": 4,
 "nbformat_minor": 2,
 "cells": [
  {
   "source": [
    "<h1 align=center><font size = 5>Regression Models with Keras</font></h1>\n",
    "\n",
    "---\n",
    "\n",
    "## About the data set:\n",
    "- Predict compressive strength of concrete using data from concrete mixture\n",
    "\n",
    "---\n",
    "\n",
    "Process\n",
    "\n",
    "Clean, Prep, Test, Evaluate\n",
    "\n",
    "- Create NN\n",
    "- Compile\n",
    "- Fit\n",
    "- Predict\n",
    "\n",
    "---\n",
    "\n",
    "## About Keras\n",
    "\n",
    "Creating network layers\n",
    "- keras.model.sequential.add(dense)\n",
    "-- Dense = when all nodes in hidden layer are connected to each other\n",
    "-- Dense(number_of_nodes, activation_equation, )"
   ],
   "cell_type": "markdown",
   "metadata": {}
  },
  {
   "cell_type": "code",
   "execution_count": 36,
   "metadata": {},
   "outputs": [],
   "source": [
    "import pandas as pd \n",
    "import numpy as np \n",
    "\n",
    "df = pd.read_csv('data_set/concrete_data.csv')\n",
    "df.columns\n",
    "\n",
    "# Filter for non-target columns\n",
    "attribute_cols = df.columns != 'Strength'\n",
    "filter_ = df.columns[attribute_cols]\n",
    "attribute_cols = df[filter_]\n",
    "\n",
    "# normalize df\n",
    "attribute_norm = (attribute_cols - attribute_cols.mean()) / attribute_cols.std()\n",
    "\n",
    "# Filter for target values\n",
    "filter_target = df.columns[-1:]\n",
    "target = df[filter_target]\n",
    "\n",
    "n_cols = attribute_norm.shape[1]\n"
   ]
  },
  {
   "cell_type": "code",
   "execution_count": 50,
   "metadata": {
    "tags": []
   },
   "outputs": [
    {
     "output_type": "stream",
     "name": "stdout",
     "text": "Epoch 1/10\n23/23 - 1s - loss: 691.9186 - val_loss: 225.5614\nEpoch 2/10\n23/23 - 0s - loss: 188.4256 - val_loss: 167.5972\nEpoch 3/10\n23/23 - 0s - loss: 146.4978 - val_loss: 266.7510\nEpoch 4/10\n23/23 - 0s - loss: 93.5931 - val_loss: 282.3561\nEpoch 5/10\n23/23 - 0s - loss: 76.3778 - val_loss: 199.0699\nEpoch 6/10\n23/23 - 0s - loss: 57.6692 - val_loss: 215.6065\nEpoch 7/10\n23/23 - 0s - loss: 48.7974 - val_loss: 173.0043\nEpoch 8/10\n23/23 - 0s - loss: 52.6333 - val_loss: 138.0282\nEpoch 9/10\n23/23 - 0s - loss: 35.6292 - val_loss: 172.8510\nEpoch 10/10\n23/23 - 0s - loss: 34.9619 - val_loss: 156.4422\n"
    },
    {
     "output_type": "execute_result",
     "data": {
      "text/plain": "<tensorflow.python.keras.callbacks.History at 0x158502d90>"
     },
     "metadata": {},
     "execution_count": 50
    }
   ],
   "source": [
    "import keras\n",
    "from keras.models import Sequential\n",
    "from keras.layers import Dense\n",
    "\n",
    "def regression_model():\n",
    "    model = Sequential()\n",
    "    model.add(Dense(50, activation='relu', input_shape=(n_cols,))) #input layer\n",
    "    model.add(Dense(1000, activation='relu')) #hidden layer\n",
    "    model.add(Dense(1000, activation='relu')) #hidden layer\n",
    "    model.add(Dense(1000, activation='relu')) #hidden layer\n",
    "    model.add(Dense(1000, activation='relu')) #hidden layer\n",
    "    model.add(Dense(1000, activation='relu')) #hidden layer\n",
    "    model.add(Dense(1000, activation='relu')) #hidden layer\n",
    "    model.add(Dense(50)) #outputlayer\n",
    "\n",
    "    model.compile(optimizer='adam', loss='mean_squared_error') \n",
    "        #Adam optimization is a stochastic gradient descent method \n",
    "    return model\n",
    "\n",
    "\n",
    "model = regression_model()\n",
    "\n",
    "# fit is able to train and test datasets\n",
    "model.fit(attribute_norm, target, validation_split=0.3, epochs=10, verbose=2)"
   ]
  },
  {
   "cell_type": "code",
   "execution_count": null,
   "metadata": {},
   "outputs": [],
   "source": []
  }
 ]
}