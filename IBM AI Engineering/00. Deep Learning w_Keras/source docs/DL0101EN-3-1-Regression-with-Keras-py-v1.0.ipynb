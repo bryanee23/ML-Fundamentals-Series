{
 "cells": [
  {
   "cell_type": "markdown",
   "metadata": {
    "button": false,
    "deletable": true,
    "new_sheet": false,
    "run_control": {
     "read_only": false
    }
   },
   "source": [
    "<a href=\"https://cognitiveclass.ai\"><img src = \"https://s3-api.us-geo.objectstorage.softlayer.net/cf-courses-data/CognitiveClass/Logos/organization_logo/organization_logo.png\" width = 400> </a>\n",
    "\n",
    "<h1 align=center><font size = 5>Regression Models with Keras</font></h1>"
   ]
  },
  {
   "cell_type": "markdown",
   "metadata": {
    "button": false,
    "deletable": true,
    "new_sheet": false,
    "run_control": {
     "read_only": false
    }
   },
   "source": [
    "## Introduction"
   ]
  },
  {
   "cell_type": "markdown",
   "metadata": {
    "button": false,
    "deletable": true,
    "new_sheet": false,
    "run_control": {
     "read_only": false
    }
   },
   "source": [
    "As we discussed in the videos, despite the popularity of more powerful libraries such as PyToch and TensorFlow, they are not easy to use and have a steep learning curve. So, for people who are just starting to learn deep learning, there is no better library to use other than the Keras library. \n",
    "\n",
    "Keras is a high-level API for building deep learning models. It has gained favor for its ease of use and syntactic simplicity facilitating fast development. As you will see in this lab and the other labs in this course, building a very complex deep learning network can be achieved with Keras with only few lines of code. You will appreciate Keras even more, once you learn how to build deep models using PyTorch and TensorFlow in the other courses.\n",
    "\n",
    "So, in this lab, you will learn how to use the Keras library to build a regression model."
   ]
  },
  {
   "cell_type": "markdown",
   "metadata": {
    "button": false,
    "deletable": true,
    "new_sheet": false,
    "run_control": {
     "read_only": false
    }
   },
   "source": [
    "## Table of Contents\n",
    "\n",
    "<div class=\"alert alert-block alert-info\" style=\"margin-top: 20px\">\n",
    "\n",
    "<font size = 3>\n",
    "    \n",
    "1. <a href=\"#item31\">Download and Clean Dataset</a>  \n",
    "2. <a href=\"#item32\">Import Keras</a>  \n",
    "3. <a href=\"#item33\">Build a Neural Network</a>  \n",
    "4. <a href=\"#item34\">Train and Test the Network</a>  \n",
    "\n",
    "</font>\n",
    "</div>"
   ]
  },
  {
   "cell_type": "markdown",
   "metadata": {
    "button": false,
    "deletable": true,
    "new_sheet": false,
    "run_control": {
     "read_only": false
    }
   },
   "source": [
    "## Download and Clean Dataset"
   ]
  },
  {
   "cell_type": "markdown",
   "metadata": {
    "button": false,
    "deletable": true,
    "new_sheet": false,
    "run_control": {
     "read_only": false
    }
   },
   "source": [
    "Let's start by importing the <em>pandas</em> and the Numpy libraries."
   ]
  },
  {
   "cell_type": "code",
   "execution_count": 4,
   "metadata": {
    "button": false,
    "deletable": true,
    "new_sheet": false,
    "run_control": {
     "read_only": false
    }
   },
   "outputs": [],
   "source": [
    "import pandas as pd\n",
    "import numpy as np"
   ]
  },
  {
   "cell_type": "markdown",
   "metadata": {
    "button": false,
    "deletable": true,
    "new_sheet": false,
    "run_control": {
     "read_only": false
    }
   },
   "source": [
    "We will be playing around with the same dataset that we used in the videos.\n",
    "\n",
    "<strong>The dataset is about the compressive strength of different samples of concrete based on the volumes of the different ingredients that were used to make them. Ingredients include:</strong>\n",
    "\n",
    "<strong>1. Cement</strong>\n",
    "\n",
    "<strong>2. Blast Furnace Slag</strong>\n",
    "\n",
    "<strong>3. Fly Ash</strong>\n",
    "\n",
    "<strong>4. Water</strong>\n",
    "\n",
    "<strong>5. Superplasticizer</strong>\n",
    "\n",
    "<strong>6. Coarse Aggregate</strong>\n",
    "\n",
    "<strong>7. Fine Aggregate</strong>"
   ]
  },
  {
   "cell_type": "markdown",
   "metadata": {
    "button": false,
    "deletable": true,
    "new_sheet": false,
    "run_control": {
     "read_only": false
    }
   },
   "source": [
    "Let's download the data and read it into a <em>pandas</em> dataframe."
   ]
  },
  {
   "cell_type": "code",
   "execution_count": 6,
   "metadata": {
    "button": false,
    "deletable": true,
    "new_sheet": false,
    "run_control": {
     "read_only": false
    }
   },
   "outputs": [
    {
     "output_type": "execute_result",
     "data": {
      "text/plain": "   Cement  Blast Furnace Slag  Fly Ash  Water  Superplasticizer  \\\n0   540.0                 0.0      0.0  162.0               2.5   \n1   540.0                 0.0      0.0  162.0               2.5   \n2   332.5               142.5      0.0  228.0               0.0   \n3   332.5               142.5      0.0  228.0               0.0   \n4   198.6               132.4      0.0  192.0               0.0   \n\n   Coarse Aggregate  Fine Aggregate  Age  Strength  \n0            1040.0           676.0   28     79.99  \n1            1055.0           676.0   28     61.89  \n2             932.0           594.0  270     40.27  \n3             932.0           594.0  365     41.05  \n4             978.4           825.5  360     44.30  ",
      "text/html": "<div>\n<style scoped>\n    .dataframe tbody tr th:only-of-type {\n        vertical-align: middle;\n    }\n\n    .dataframe tbody tr th {\n        vertical-align: top;\n    }\n\n    .dataframe thead th {\n        text-align: right;\n    }\n</style>\n<table border=\"1\" class=\"dataframe\">\n  <thead>\n    <tr style=\"text-align: right;\">\n      <th></th>\n      <th>Cement</th>\n      <th>Blast Furnace Slag</th>\n      <th>Fly Ash</th>\n      <th>Water</th>\n      <th>Superplasticizer</th>\n      <th>Coarse Aggregate</th>\n      <th>Fine Aggregate</th>\n      <th>Age</th>\n      <th>Strength</th>\n    </tr>\n  </thead>\n  <tbody>\n    <tr>\n      <th>0</th>\n      <td>540.0</td>\n      <td>0.0</td>\n      <td>0.0</td>\n      <td>162.0</td>\n      <td>2.5</td>\n      <td>1040.0</td>\n      <td>676.0</td>\n      <td>28</td>\n      <td>79.99</td>\n    </tr>\n    <tr>\n      <th>1</th>\n      <td>540.0</td>\n      <td>0.0</td>\n      <td>0.0</td>\n      <td>162.0</td>\n      <td>2.5</td>\n      <td>1055.0</td>\n      <td>676.0</td>\n      <td>28</td>\n      <td>61.89</td>\n    </tr>\n    <tr>\n      <th>2</th>\n      <td>332.5</td>\n      <td>142.5</td>\n      <td>0.0</td>\n      <td>228.0</td>\n      <td>0.0</td>\n      <td>932.0</td>\n      <td>594.0</td>\n      <td>270</td>\n      <td>40.27</td>\n    </tr>\n    <tr>\n      <th>3</th>\n      <td>332.5</td>\n      <td>142.5</td>\n      <td>0.0</td>\n      <td>228.0</td>\n      <td>0.0</td>\n      <td>932.0</td>\n      <td>594.0</td>\n      <td>365</td>\n      <td>41.05</td>\n    </tr>\n    <tr>\n      <th>4</th>\n      <td>198.6</td>\n      <td>132.4</td>\n      <td>0.0</td>\n      <td>192.0</td>\n      <td>0.0</td>\n      <td>978.4</td>\n      <td>825.5</td>\n      <td>360</td>\n      <td>44.30</td>\n    </tr>\n  </tbody>\n</table>\n</div>"
     },
     "metadata": {},
     "execution_count": 6
    }
   ],
   "source": [
    "concrete_data = pd.read_csv('../data_set/concrete_data.csv')\n",
    "concrete_data.head()"
   ]
  },
  {
   "cell_type": "markdown",
   "metadata": {
    "button": false,
    "deletable": true,
    "new_sheet": false,
    "run_control": {
     "read_only": false
    }
   },
   "source": [
    "So the first concrete sample has 540 cubic meter of cement, 0 cubic meter of blast furnace slag, 0 cubic meter of fly ash, 162 cubic meter of water, 2.5 cubic meter of superplaticizer, 1040 cubic meter of coarse aggregate, 676 cubic meter of fine aggregate. Such a concrete mix which is 28 days old, has a compressive strength of 79.99 MPa. "
   ]
  },
  {
   "cell_type": "markdown",
   "metadata": {
    "button": false,
    "deletable": true,
    "new_sheet": false,
    "run_control": {
     "read_only": false
    }
   },
   "source": [
    "#### Let's check how many data points we have."
   ]
  },
  {
   "cell_type": "code",
   "execution_count": 7,
   "metadata": {
    "button": false,
    "deletable": true,
    "new_sheet": false,
    "run_control": {
     "read_only": false
    }
   },
   "outputs": [
    {
     "output_type": "execute_result",
     "data": {
      "text/plain": "(1030, 9)"
     },
     "metadata": {},
     "execution_count": 7
    }
   ],
   "source": [
    "concrete_data.shape"
   ]
  },
  {
   "cell_type": "markdown",
   "metadata": {
    "button": false,
    "deletable": true,
    "new_sheet": false,
    "run_control": {
     "read_only": false
    }
   },
   "source": [
    "So, there are approximately 1000 samples to train our model on. Because of the few samples, we have to be careful not to overfit the training data."
   ]
  },
  {
   "cell_type": "markdown",
   "metadata": {
    "button": false,
    "deletable": true,
    "new_sheet": false,
    "run_control": {
     "read_only": false
    }
   },
   "source": [
    "Let's check the dataset for any missing values."
   ]
  },
  {
   "cell_type": "code",
   "execution_count": 8,
   "metadata": {
    "button": false,
    "deletable": true,
    "new_sheet": false,
    "run_control": {
     "read_only": false
    }
   },
   "outputs": [
    {
     "output_type": "execute_result",
     "data": {
      "text/plain": "            Cement  Blast Furnace Slag      Fly Ash        Water  \\\ncount  1030.000000         1030.000000  1030.000000  1030.000000   \nmean    281.167864           73.895825    54.188350   181.567282   \nstd     104.506364           86.279342    63.997004    21.354219   \nmin     102.000000            0.000000     0.000000   121.800000   \n25%     192.375000            0.000000     0.000000   164.900000   \n50%     272.900000           22.000000     0.000000   185.000000   \n75%     350.000000          142.950000   118.300000   192.000000   \nmax     540.000000          359.400000   200.100000   247.000000   \n\n       Superplasticizer  Coarse Aggregate  Fine Aggregate          Age  \\\ncount       1030.000000       1030.000000     1030.000000  1030.000000   \nmean           6.204660        972.918932      773.580485    45.662136   \nstd            5.973841         77.753954       80.175980    63.169912   \nmin            0.000000        801.000000      594.000000     1.000000   \n25%            0.000000        932.000000      730.950000     7.000000   \n50%            6.400000        968.000000      779.500000    28.000000   \n75%           10.200000       1029.400000      824.000000    56.000000   \nmax           32.200000       1145.000000      992.600000   365.000000   \n\n          Strength  \ncount  1030.000000  \nmean     35.817961  \nstd      16.705742  \nmin       2.330000  \n25%      23.710000  \n50%      34.445000  \n75%      46.135000  \nmax      82.600000  ",
      "text/html": "<div>\n<style scoped>\n    .dataframe tbody tr th:only-of-type {\n        vertical-align: middle;\n    }\n\n    .dataframe tbody tr th {\n        vertical-align: top;\n    }\n\n    .dataframe thead th {\n        text-align: right;\n    }\n</style>\n<table border=\"1\" class=\"dataframe\">\n  <thead>\n    <tr style=\"text-align: right;\">\n      <th></th>\n      <th>Cement</th>\n      <th>Blast Furnace Slag</th>\n      <th>Fly Ash</th>\n      <th>Water</th>\n      <th>Superplasticizer</th>\n      <th>Coarse Aggregate</th>\n      <th>Fine Aggregate</th>\n      <th>Age</th>\n      <th>Strength</th>\n    </tr>\n  </thead>\n  <tbody>\n    <tr>\n      <th>count</th>\n      <td>1030.000000</td>\n      <td>1030.000000</td>\n      <td>1030.000000</td>\n      <td>1030.000000</td>\n      <td>1030.000000</td>\n      <td>1030.000000</td>\n      <td>1030.000000</td>\n      <td>1030.000000</td>\n      <td>1030.000000</td>\n    </tr>\n    <tr>\n      <th>mean</th>\n      <td>281.167864</td>\n      <td>73.895825</td>\n      <td>54.188350</td>\n      <td>181.567282</td>\n      <td>6.204660</td>\n      <td>972.918932</td>\n      <td>773.580485</td>\n      <td>45.662136</td>\n      <td>35.817961</td>\n    </tr>\n    <tr>\n      <th>std</th>\n      <td>104.506364</td>\n      <td>86.279342</td>\n      <td>63.997004</td>\n      <td>21.354219</td>\n      <td>5.973841</td>\n      <td>77.753954</td>\n      <td>80.175980</td>\n      <td>63.169912</td>\n      <td>16.705742</td>\n    </tr>\n    <tr>\n      <th>min</th>\n      <td>102.000000</td>\n      <td>0.000000</td>\n      <td>0.000000</td>\n      <td>121.800000</td>\n      <td>0.000000</td>\n      <td>801.000000</td>\n      <td>594.000000</td>\n      <td>1.000000</td>\n      <td>2.330000</td>\n    </tr>\n    <tr>\n      <th>25%</th>\n      <td>192.375000</td>\n      <td>0.000000</td>\n      <td>0.000000</td>\n      <td>164.900000</td>\n      <td>0.000000</td>\n      <td>932.000000</td>\n      <td>730.950000</td>\n      <td>7.000000</td>\n      <td>23.710000</td>\n    </tr>\n    <tr>\n      <th>50%</th>\n      <td>272.900000</td>\n      <td>22.000000</td>\n      <td>0.000000</td>\n      <td>185.000000</td>\n      <td>6.400000</td>\n      <td>968.000000</td>\n      <td>779.500000</td>\n      <td>28.000000</td>\n      <td>34.445000</td>\n    </tr>\n    <tr>\n      <th>75%</th>\n      <td>350.000000</td>\n      <td>142.950000</td>\n      <td>118.300000</td>\n      <td>192.000000</td>\n      <td>10.200000</td>\n      <td>1029.400000</td>\n      <td>824.000000</td>\n      <td>56.000000</td>\n      <td>46.135000</td>\n    </tr>\n    <tr>\n      <th>max</th>\n      <td>540.000000</td>\n      <td>359.400000</td>\n      <td>200.100000</td>\n      <td>247.000000</td>\n      <td>32.200000</td>\n      <td>1145.000000</td>\n      <td>992.600000</td>\n      <td>365.000000</td>\n      <td>82.600000</td>\n    </tr>\n  </tbody>\n</table>\n</div>"
     },
     "metadata": {},
     "execution_count": 8
    }
   ],
   "source": [
    "concrete_data.describe()"
   ]
  },
  {
   "cell_type": "code",
   "execution_count": 9,
   "metadata": {
    "button": false,
    "deletable": true,
    "new_sheet": false,
    "run_control": {
     "read_only": false
    }
   },
   "outputs": [
    {
     "output_type": "execute_result",
     "data": {
      "text/plain": "Cement                0\nBlast Furnace Slag    0\nFly Ash               0\nWater                 0\nSuperplasticizer      0\nCoarse Aggregate      0\nFine Aggregate        0\nAge                   0\nStrength              0\ndtype: int64"
     },
     "metadata": {},
     "execution_count": 9
    }
   ],
   "source": [
    "concrete_data.isnull().sum()"
   ]
  },
  {
   "cell_type": "markdown",
   "metadata": {
    "button": false,
    "deletable": true,
    "new_sheet": false,
    "run_control": {
     "read_only": false
    }
   },
   "source": [
    "The data looks very clean and is ready to be used to build our model."
   ]
  },
  {
   "cell_type": "markdown",
   "metadata": {
    "button": false,
    "deletable": true,
    "new_sheet": false,
    "run_control": {
     "read_only": false
    }
   },
   "source": [
    "#### Split data into predictors and target"
   ]
  },
  {
   "cell_type": "markdown",
   "metadata": {},
   "source": [
    "The target variable in this problem is the concrete sample strength. Therefore, our predictors will be all the other columns."
   ]
  },
  {
   "cell_type": "code",
   "execution_count": 12,
   "metadata": {
    "button": false,
    "deletable": true,
    "new_sheet": false,
    "run_control": {
     "read_only": false
    }
   },
   "outputs": [],
   "source": [
    "concrete_data_columns = concrete_data.columns\n",
    "\n",
    "predictors = concrete_data[concrete_data_columns[concrete_data_columns != 'Strength']] # all columns except Strength\n",
    "target = concrete_data['Strength'] # Strength column"
   ]
  },
  {
   "cell_type": "markdown",
   "metadata": {
    "button": false,
    "deletable": true,
    "new_sheet": false,
    "run_control": {
     "read_only": false
    }
   },
   "source": [
    "Let's do a quick sanity check of the predictors and the target dataframes."
   ]
  },
  {
   "cell_type": "code",
   "execution_count": 23,
   "metadata": {
    "button": false,
    "deletable": true,
    "new_sheet": false,
    "run_control": {
     "read_only": false
    }
   },
   "outputs": [
    {
     "output_type": "execute_result",
     "data": {
      "text/plain": "   Cement  Blast Furnace Slag  Fly Ash  Water  Superplasticizer  \\\n0   540.0                 0.0      0.0  162.0               2.5   \n1   540.0                 0.0      0.0  162.0               2.5   \n2   332.5               142.5      0.0  228.0               0.0   \n3   332.5               142.5      0.0  228.0               0.0   \n4   198.6               132.4      0.0  192.0               0.0   \n\n   Coarse Aggregate  Fine Aggregate  Age  \n0            1040.0           676.0   28  \n1            1055.0           676.0   28  \n2             932.0           594.0  270  \n3             932.0           594.0  365  \n4             978.4           825.5  360  ",
      "text/html": "<div>\n<style scoped>\n    .dataframe tbody tr th:only-of-type {\n        vertical-align: middle;\n    }\n\n    .dataframe tbody tr th {\n        vertical-align: top;\n    }\n\n    .dataframe thead th {\n        text-align: right;\n    }\n</style>\n<table border=\"1\" class=\"dataframe\">\n  <thead>\n    <tr style=\"text-align: right;\">\n      <th></th>\n      <th>Cement</th>\n      <th>Blast Furnace Slag</th>\n      <th>Fly Ash</th>\n      <th>Water</th>\n      <th>Superplasticizer</th>\n      <th>Coarse Aggregate</th>\n      <th>Fine Aggregate</th>\n      <th>Age</th>\n    </tr>\n  </thead>\n  <tbody>\n    <tr>\n      <th>0</th>\n      <td>540.0</td>\n      <td>0.0</td>\n      <td>0.0</td>\n      <td>162.0</td>\n      <td>2.5</td>\n      <td>1040.0</td>\n      <td>676.0</td>\n      <td>28</td>\n    </tr>\n    <tr>\n      <th>1</th>\n      <td>540.0</td>\n      <td>0.0</td>\n      <td>0.0</td>\n      <td>162.0</td>\n      <td>2.5</td>\n      <td>1055.0</td>\n      <td>676.0</td>\n      <td>28</td>\n    </tr>\n    <tr>\n      <th>2</th>\n      <td>332.5</td>\n      <td>142.5</td>\n      <td>0.0</td>\n      <td>228.0</td>\n      <td>0.0</td>\n      <td>932.0</td>\n      <td>594.0</td>\n      <td>270</td>\n    </tr>\n    <tr>\n      <th>3</th>\n      <td>332.5</td>\n      <td>142.5</td>\n      <td>0.0</td>\n      <td>228.0</td>\n      <td>0.0</td>\n      <td>932.0</td>\n      <td>594.0</td>\n      <td>365</td>\n    </tr>\n    <tr>\n      <th>4</th>\n      <td>198.6</td>\n      <td>132.4</td>\n      <td>0.0</td>\n      <td>192.0</td>\n      <td>0.0</td>\n      <td>978.4</td>\n      <td>825.5</td>\n      <td>360</td>\n    </tr>\n  </tbody>\n</table>\n</div>"
     },
     "metadata": {},
     "execution_count": 23
    }
   ],
   "source": [
    "predictors.head()"
   ]
  },
  {
   "cell_type": "code",
   "execution_count": 24,
   "metadata": {
    "button": false,
    "deletable": true,
    "new_sheet": false,
    "run_control": {
     "read_only": false
    }
   },
   "outputs": [
    {
     "output_type": "execute_result",
     "data": {
      "text/plain": "0    79.99\n1    61.89\n2    40.27\n3    41.05\n4    44.30\nName: Strength, dtype: float64"
     },
     "metadata": {},
     "execution_count": 24
    }
   ],
   "source": [
    "target.head()"
   ]
  },
  {
   "cell_type": "markdown",
   "metadata": {
    "button": false,
    "deletable": true,
    "new_sheet": false,
    "run_control": {
     "read_only": false
    }
   },
   "source": [
    "Finally, the last step is to normalize the data by substracting the mean and dividing by the standard deviation."
   ]
  },
  {
   "cell_type": "code",
   "execution_count": 25,
   "metadata": {
    "button": false,
    "deletable": true,
    "new_sheet": false,
    "run_control": {
     "read_only": false
    }
   },
   "outputs": [
    {
     "output_type": "execute_result",
     "data": {
      "text/plain": "     Cement  Blast Furnace Slag   Fly Ash     Water  Superplasticizer  \\\n0  2.476712           -0.856472 -0.846733 -0.916319         -0.620147   \n1  2.476712           -0.856472 -0.846733 -0.916319         -0.620147   \n2  0.491187            0.795140 -0.846733  2.174405         -1.038638   \n3  0.491187            0.795140 -0.846733  2.174405         -1.038638   \n4 -0.790075            0.678079 -0.846733  0.488555         -1.038638   \n\n   Coarse Aggregate  Fine Aggregate       Age  \n0          0.862735       -1.217079 -0.279597  \n1          1.055651       -1.217079 -0.279597  \n2         -0.526262       -2.239829  3.551340  \n3         -0.526262       -2.239829  5.055221  \n4          0.070492        0.647569  4.976069  ",
      "text/html": "<div>\n<style scoped>\n    .dataframe tbody tr th:only-of-type {\n        vertical-align: middle;\n    }\n\n    .dataframe tbody tr th {\n        vertical-align: top;\n    }\n\n    .dataframe thead th {\n        text-align: right;\n    }\n</style>\n<table border=\"1\" class=\"dataframe\">\n  <thead>\n    <tr style=\"text-align: right;\">\n      <th></th>\n      <th>Cement</th>\n      <th>Blast Furnace Slag</th>\n      <th>Fly Ash</th>\n      <th>Water</th>\n      <th>Superplasticizer</th>\n      <th>Coarse Aggregate</th>\n      <th>Fine Aggregate</th>\n      <th>Age</th>\n    </tr>\n  </thead>\n  <tbody>\n    <tr>\n      <th>0</th>\n      <td>2.476712</td>\n      <td>-0.856472</td>\n      <td>-0.846733</td>\n      <td>-0.916319</td>\n      <td>-0.620147</td>\n      <td>0.862735</td>\n      <td>-1.217079</td>\n      <td>-0.279597</td>\n    </tr>\n    <tr>\n      <th>1</th>\n      <td>2.476712</td>\n      <td>-0.856472</td>\n      <td>-0.846733</td>\n      <td>-0.916319</td>\n      <td>-0.620147</td>\n      <td>1.055651</td>\n      <td>-1.217079</td>\n      <td>-0.279597</td>\n    </tr>\n    <tr>\n      <th>2</th>\n      <td>0.491187</td>\n      <td>0.795140</td>\n      <td>-0.846733</td>\n      <td>2.174405</td>\n      <td>-1.038638</td>\n      <td>-0.526262</td>\n      <td>-2.239829</td>\n      <td>3.551340</td>\n    </tr>\n    <tr>\n      <th>3</th>\n      <td>0.491187</td>\n      <td>0.795140</td>\n      <td>-0.846733</td>\n      <td>2.174405</td>\n      <td>-1.038638</td>\n      <td>-0.526262</td>\n      <td>-2.239829</td>\n      <td>5.055221</td>\n    </tr>\n    <tr>\n      <th>4</th>\n      <td>-0.790075</td>\n      <td>0.678079</td>\n      <td>-0.846733</td>\n      <td>0.488555</td>\n      <td>-1.038638</td>\n      <td>0.070492</td>\n      <td>0.647569</td>\n      <td>4.976069</td>\n    </tr>\n  </tbody>\n</table>\n</div>"
     },
     "metadata": {},
     "execution_count": 25
    }
   ],
   "source": [
    "predictors_norm = (predictors - predictors.mean()) / predictors.std()\n",
    "predictors_norm.head()"
   ]
  },
  {
   "cell_type": "markdown",
   "metadata": {},
   "source": [
    "Let's save the number of predictors to *n_cols* since we will need this number when building our network."
   ]
  },
  {
   "cell_type": "code",
   "execution_count": 27,
   "metadata": {
    "button": false,
    "deletable": true,
    "new_sheet": false,
    "run_control": {
     "read_only": false
    }
   },
   "outputs": [
    {
     "output_type": "execute_result",
     "data": {
      "text/plain": "8"
     },
     "metadata": {},
     "execution_count": 27
    }
   ],
   "source": [
    "n_cols = predictors_norm.shape[1] # number of predictors\n",
    "n_cols"
   ]
  },
  {
   "cell_type": "markdown",
   "metadata": {
    "button": false,
    "deletable": true,
    "new_sheet": false,
    "run_control": {
     "read_only": false
    }
   },
   "source": [
    "<a id=\"item1\"></a>"
   ]
  },
  {
   "cell_type": "markdown",
   "metadata": {},
   "source": [
    "<a id='item32'></a>"
   ]
  },
  {
   "cell_type": "markdown",
   "metadata": {
    "button": false,
    "deletable": true,
    "new_sheet": false,
    "run_control": {
     "read_only": false
    }
   },
   "source": [
    "## Import Keras"
   ]
  },
  {
   "cell_type": "markdown",
   "metadata": {
    "button": false,
    "deletable": true,
    "new_sheet": false,
    "run_control": {
     "read_only": false
    }
   },
   "source": [
    "Recall from the videos that Keras normally runs on top of a low-level library such as TensorFlow. This means that to be able to use the Keras library, you will have to install TensorFlow first and when you import the Keras library, it will be explicitly displayed what backend was used to install the Keras library. In CC Labs, we used TensorFlow as the backend to install Keras, so it should clearly print that when we import Keras."
   ]
  },
  {
   "cell_type": "markdown",
   "metadata": {
    "button": false,
    "deletable": true,
    "new_sheet": false,
    "run_control": {
     "read_only": false
    }
   },
   "source": [
    "#### Let's go ahead and import the Keras library"
   ]
  },
  {
   "cell_type": "code",
   "execution_count": 28,
   "metadata": {
    "button": false,
    "deletable": true,
    "new_sheet": false,
    "run_control": {
     "read_only": false
    }
   },
   "outputs": [],
   "source": [
    "import keras"
   ]
  },
  {
   "cell_type": "markdown",
   "metadata": {
    "button": false,
    "deletable": true,
    "new_sheet": false,
    "run_control": {
     "read_only": false
    }
   },
   "source": [
    "As you can see, the TensorFlow backend was used to install the Keras library."
   ]
  },
  {
   "cell_type": "markdown",
   "metadata": {
    "button": false,
    "deletable": true,
    "new_sheet": false,
    "run_control": {
     "read_only": false
    }
   },
   "source": [
    "Let's import the rest of the packages from the Keras library that we will need to build our regressoin model."
   ]
  },
  {
   "cell_type": "code",
   "execution_count": 29,
   "metadata": {
    "button": false,
    "deletable": true,
    "new_sheet": false,
    "run_control": {
     "read_only": false
    }
   },
   "outputs": [],
   "source": [
    "from keras.models import Sequential\n",
    "from keras.layers import Dense"
   ]
  },
  {
   "cell_type": "markdown",
   "metadata": {},
   "source": [
    "<a id='item33'></a>"
   ]
  },
  {
   "cell_type": "markdown",
   "metadata": {
    "button": false,
    "deletable": true,
    "new_sheet": false,
    "run_control": {
     "read_only": false
    }
   },
   "source": [
    "## Build a Neural Network"
   ]
  },
  {
   "cell_type": "markdown",
   "metadata": {
    "button": false,
    "deletable": true,
    "new_sheet": false,
    "run_control": {
     "read_only": false
    }
   },
   "source": [
    "Let's define a function that defines our regression model for us so that we can conveniently call it to create our model."
   ]
  },
  {
   "cell_type": "code",
   "execution_count": 33,
   "metadata": {
    "button": false,
    "deletable": true,
    "new_sheet": false,
    "run_control": {
     "read_only": false
    }
   },
   "outputs": [],
   "source": [
    "# define regression model\n",
    "def regression_model():\n",
    "    # create model\n",
    "    model = Sequential()\n",
    "    model.add(Dense(50, activation='relu', input_shape=(n_cols,)))\n",
    "    model.add(Dense(50, activation='relu'))\n",
    "    model.add(Dense(1))\n",
    "    \n",
    "    # compile model\n",
    "    model.compile(optimizer='adam', loss='mean_squared_error')\n",
    "    return model"
   ]
  },
  {
   "cell_type": "markdown",
   "metadata": {},
   "source": [
    "The above function create a model that has two hidden layers, each of 50 hidden units."
   ]
  },
  {
   "cell_type": "markdown",
   "metadata": {
    "button": false,
    "deletable": true,
    "new_sheet": false,
    "run_control": {
     "read_only": false
    }
   },
   "source": [
    "<a id=\"item4\"></a>"
   ]
  },
  {
   "cell_type": "markdown",
   "metadata": {},
   "source": [
    "<a id='item34'></a>"
   ]
  },
  {
   "cell_type": "markdown",
   "metadata": {
    "button": false,
    "deletable": true,
    "new_sheet": false,
    "run_control": {
     "read_only": false
    }
   },
   "source": [
    "## Train and Test the Network"
   ]
  },
  {
   "cell_type": "markdown",
   "metadata": {},
   "source": [
    "Let's call the function now to create our model."
   ]
  },
  {
   "cell_type": "code",
   "execution_count": 34,
   "metadata": {
    "button": false,
    "deletable": true,
    "new_sheet": false,
    "run_control": {
     "read_only": false
    }
   },
   "outputs": [
    {
     "output_type": "execute_result",
     "data": {
      "text/plain": "<tensorflow.python.keras.engine.sequential.Sequential at 0x14d73fbd0>"
     },
     "metadata": {},
     "execution_count": 34
    }
   ],
   "source": [
    "# build the model\n",
    "model = regression_model()\n",
    "model"
   ]
  },
  {
   "cell_type": "markdown",
   "metadata": {},
   "source": [
    "Next, we will train and test the model at the same time using the *fit* method. We will leave out 30% of the data for validation and we will train the model for 100 epochs."
   ]
  },
  {
   "cell_type": "code",
   "execution_count": 36,
   "metadata": {
    "tags": [
     "outputPrepend"
    ]
   },
   "outputs": [
    {
     "output_type": "stream",
     "name": "stdout",
     "text": "h 78/400\n23/23 - 0s - loss: 24.9664 - val_loss: 144.9357\nEpoch 79/400\n23/23 - 0s - loss: 24.6867 - val_loss: 147.5268\nEpoch 80/400\n23/23 - 0s - loss: 24.6416 - val_loss: 148.9000\nEpoch 81/400\n23/23 - 0s - loss: 24.8145 - val_loss: 135.8959\nEpoch 82/400\n23/23 - 0s - loss: 24.9510 - val_loss: 147.7117\nEpoch 83/400\n23/23 - 0s - loss: 24.5119 - val_loss: 158.1450\nEpoch 84/400\n23/23 - 0s - loss: 25.0506 - val_loss: 150.7838\nEpoch 85/400\n23/23 - 0s - loss: 24.2448 - val_loss: 147.3162\nEpoch 86/400\n23/23 - 0s - loss: 24.3691 - val_loss: 150.4171\nEpoch 87/400\n23/23 - 0s - loss: 24.2070 - val_loss: 155.6653\nEpoch 88/400\n23/23 - 0s - loss: 24.1348 - val_loss: 141.2992\nEpoch 89/400\n23/23 - 0s - loss: 23.7223 - val_loss: 163.4139\nEpoch 90/400\n23/23 - 0s - loss: 24.2186 - val_loss: 154.3091\nEpoch 91/400\n23/23 - 0s - loss: 23.6471 - val_loss: 150.7837\nEpoch 92/400\n23/23 - 0s - loss: 24.4409 - val_loss: 148.3865\nEpoch 93/400\n23/23 - 0s - loss: 24.4500 - val_loss: 147.6665\nEpoch 94/400\n23/23 - 0s - loss: 23.4270 - val_loss: 159.8099\nEpoch 95/400\n23/23 - 0s - loss: 23.1779 - val_loss: 151.8618\nEpoch 96/400\n23/23 - 0s - loss: 22.9982 - val_loss: 148.4678\nEpoch 97/400\n23/23 - 0s - loss: 22.8162 - val_loss: 145.4053\nEpoch 98/400\n23/23 - 0s - loss: 22.7366 - val_loss: 148.1151\nEpoch 99/400\n23/23 - 0s - loss: 22.8517 - val_loss: 148.1228\nEpoch 100/400\n23/23 - 0s - loss: 22.8120 - val_loss: 140.9806\nEpoch 101/400\n23/23 - 0s - loss: 22.6093 - val_loss: 143.4054\nEpoch 102/400\n23/23 - 0s - loss: 22.7665 - val_loss: 146.4119\nEpoch 103/400\n23/23 - 0s - loss: 22.6956 - val_loss: 145.1690\nEpoch 104/400\n23/23 - 0s - loss: 22.0862 - val_loss: 148.5376\nEpoch 105/400\n23/23 - 0s - loss: 22.3657 - val_loss: 141.3179\nEpoch 106/400\n23/23 - 0s - loss: 22.4808 - val_loss: 142.0930\nEpoch 107/400\n23/23 - 0s - loss: 22.9712 - val_loss: 145.2467\nEpoch 108/400\n23/23 - 0s - loss: 21.9829 - val_loss: 152.3818\nEpoch 109/400\n23/23 - 0s - loss: 21.6760 - val_loss: 156.6309\nEpoch 110/400\n23/23 - 0s - loss: 21.6479 - val_loss: 158.4237\nEpoch 111/400\n23/23 - 0s - loss: 21.9747 - val_loss: 155.4381\nEpoch 112/400\n23/23 - 0s - loss: 22.1335 - val_loss: 164.0129\nEpoch 113/400\n23/23 - 0s - loss: 21.9330 - val_loss: 153.2182\nEpoch 114/400\n23/23 - 0s - loss: 21.5835 - val_loss: 148.0691\nEpoch 115/400\n23/23 - 0s - loss: 21.3781 - val_loss: 147.4070\nEpoch 116/400\n23/23 - 0s - loss: 21.4920 - val_loss: 149.5623\nEpoch 117/400\n23/23 - 0s - loss: 21.1262 - val_loss: 157.0096\nEpoch 118/400\n23/23 - 0s - loss: 21.0099 - val_loss: 157.8607\nEpoch 119/400\n23/23 - 0s - loss: 21.3471 - val_loss: 159.0995\nEpoch 120/400\n23/23 - 0s - loss: 21.0914 - val_loss: 161.1856\nEpoch 121/400\n23/23 - 0s - loss: 20.9800 - val_loss: 153.8681\nEpoch 122/400\n23/23 - 0s - loss: 20.9069 - val_loss: 162.1286\nEpoch 123/400\n23/23 - 0s - loss: 20.5803 - val_loss: 158.7578\nEpoch 124/400\n23/23 - 0s - loss: 20.7174 - val_loss: 153.0126\nEpoch 125/400\n23/23 - 0s - loss: 20.6247 - val_loss: 156.8976\nEpoch 126/400\n23/23 - 0s - loss: 20.7242 - val_loss: 145.4638\nEpoch 127/400\n23/23 - 0s - loss: 20.9019 - val_loss: 145.2513\nEpoch 128/400\n23/23 - 0s - loss: 20.4074 - val_loss: 153.5269\nEpoch 129/400\n23/23 - 0s - loss: 20.2511 - val_loss: 154.0129\nEpoch 130/400\n23/23 - 0s - loss: 20.1830 - val_loss: 152.2371\nEpoch 131/400\n23/23 - 0s - loss: 20.3236 - val_loss: 158.1262\nEpoch 132/400\n23/23 - 0s - loss: 20.0952 - val_loss: 147.4956\nEpoch 133/400\n23/23 - 0s - loss: 20.1387 - val_loss: 165.7973\nEpoch 134/400\n23/23 - 0s - loss: 19.6963 - val_loss: 177.8798\nEpoch 135/400\n23/23 - 0s - loss: 21.3732 - val_loss: 160.5805\nEpoch 136/400\n23/23 - 0s - loss: 20.1463 - val_loss: 155.7815\nEpoch 137/400\n23/23 - 0s - loss: 19.6360 - val_loss: 155.7342\nEpoch 138/400\n23/23 - 0s - loss: 19.5596 - val_loss: 170.0813\nEpoch 139/400\n23/23 - 0s - loss: 19.6477 - val_loss: 167.1533\nEpoch 140/400\n23/23 - 0s - loss: 19.9496 - val_loss: 164.0595\nEpoch 141/400\n23/23 - 0s - loss: 20.0367 - val_loss: 164.0335\nEpoch 142/400\n23/23 - 0s - loss: 19.2706 - val_loss: 164.1308\nEpoch 143/400\n23/23 - 0s - loss: 19.2583 - val_loss: 160.2429\nEpoch 144/400\n23/23 - 0s - loss: 19.0322 - val_loss: 172.4789\nEpoch 145/400\n23/23 - 0s - loss: 19.3947 - val_loss: 157.6695\nEpoch 146/400\n23/23 - 0s - loss: 18.9159 - val_loss: 163.7121\nEpoch 147/400\n23/23 - 0s - loss: 19.0528 - val_loss: 163.4339\nEpoch 148/400\n23/23 - 0s - loss: 19.0695 - val_loss: 162.1448\nEpoch 149/400\n23/23 - 0s - loss: 18.6676 - val_loss: 165.2623\nEpoch 150/400\n23/23 - 0s - loss: 19.3514 - val_loss: 171.4242\nEpoch 151/400\n23/23 - 0s - loss: 18.6890 - val_loss: 159.3728\nEpoch 152/400\n23/23 - 0s - loss: 18.8179 - val_loss: 171.6596\nEpoch 153/400\n23/23 - 0s - loss: 18.6849 - val_loss: 175.3417\nEpoch 154/400\n23/23 - 0s - loss: 18.7031 - val_loss: 171.6920\nEpoch 155/400\n23/23 - 0s - loss: 19.3076 - val_loss: 162.3746\nEpoch 156/400\n23/23 - 0s - loss: 19.1446 - val_loss: 160.8727\nEpoch 157/400\n23/23 - 0s - loss: 19.2833 - val_loss: 163.5747\nEpoch 158/400\n23/23 - 0s - loss: 18.4917 - val_loss: 161.6342\nEpoch 159/400\n23/23 - 0s - loss: 18.3026 - val_loss: 155.7325\nEpoch 160/400\n23/23 - 0s - loss: 18.7811 - val_loss: 167.1091\nEpoch 161/400\n23/23 - 0s - loss: 18.4100 - val_loss: 181.8269\nEpoch 162/400\n23/23 - 0s - loss: 18.1985 - val_loss: 170.5468\nEpoch 163/400\n23/23 - 0s - loss: 18.8290 - val_loss: 176.2609\nEpoch 164/400\n23/23 - 0s - loss: 18.0974 - val_loss: 162.0648\nEpoch 165/400\n23/23 - 0s - loss: 18.3664 - val_loss: 180.4047\nEpoch 166/400\n23/23 - 0s - loss: 18.3788 - val_loss: 174.0427\nEpoch 167/400\n23/23 - 0s - loss: 17.7782 - val_loss: 162.9238\nEpoch 168/400\n23/23 - 0s - loss: 18.1087 - val_loss: 167.3057\nEpoch 169/400\n23/23 - 0s - loss: 17.7764 - val_loss: 163.7014\nEpoch 170/400\n23/23 - 0s - loss: 18.2677 - val_loss: 163.6869\nEpoch 171/400\n23/23 - 0s - loss: 17.9712 - val_loss: 166.1679\nEpoch 172/400\n23/23 - 0s - loss: 18.0239 - val_loss: 180.5473\nEpoch 173/400\n23/23 - 0s - loss: 18.1333 - val_loss: 177.4272\nEpoch 174/400\n23/23 - 0s - loss: 17.4224 - val_loss: 171.4470\nEpoch 175/400\n23/23 - 0s - loss: 17.8130 - val_loss: 172.6177\nEpoch 176/400\n23/23 - 0s - loss: 17.4849 - val_loss: 173.0684\nEpoch 177/400\n23/23 - 0s - loss: 17.6351 - val_loss: 166.7734\nEpoch 178/400\n23/23 - 0s - loss: 17.5266 - val_loss: 173.2561\nEpoch 179/400\n23/23 - 0s - loss: 17.4257 - val_loss: 183.1304\nEpoch 180/400\n23/23 - 0s - loss: 17.5652 - val_loss: 172.5816\nEpoch 181/400\n23/23 - 0s - loss: 17.1595 - val_loss: 183.6734\nEpoch 182/400\n23/23 - 0s - loss: 17.8255 - val_loss: 190.7197\nEpoch 183/400\n23/23 - 0s - loss: 17.8398 - val_loss: 172.6430\nEpoch 184/400\n23/23 - 0s - loss: 16.7645 - val_loss: 182.8965\nEpoch 185/400\n23/23 - 0s - loss: 17.1992 - val_loss: 183.0445\nEpoch 186/400\n23/23 - 0s - loss: 16.7041 - val_loss: 173.0906\nEpoch 187/400\n23/23 - 0s - loss: 16.9398 - val_loss: 185.3310\nEpoch 188/400\n23/23 - 0s - loss: 16.8460 - val_loss: 178.5172\nEpoch 189/400\n23/23 - 0s - loss: 17.0743 - val_loss: 167.6215\nEpoch 190/400\n23/23 - 0s - loss: 17.4877 - val_loss: 174.8984\nEpoch 191/400\n23/23 - 0s - loss: 16.7777 - val_loss: 184.7501\nEpoch 192/400\n23/23 - 0s - loss: 16.6030 - val_loss: 178.8350\nEpoch 193/400\n23/23 - 0s - loss: 16.6018 - val_loss: 178.8801\nEpoch 194/400\n23/23 - 0s - loss: 16.5153 - val_loss: 169.4125\nEpoch 195/400\n23/23 - 0s - loss: 16.7010 - val_loss: 188.0676\nEpoch 196/400\n23/23 - 0s - loss: 17.0853 - val_loss: 186.0306\nEpoch 197/400\n23/23 - 0s - loss: 16.6302 - val_loss: 179.4306\nEpoch 198/400\n23/23 - 0s - loss: 16.1786 - val_loss: 172.5288\nEpoch 199/400\n23/23 - 0s - loss: 16.4838 - val_loss: 167.9230\nEpoch 200/400\n23/23 - 0s - loss: 16.3905 - val_loss: 181.7421\nEpoch 201/400\n23/23 - 0s - loss: 16.1990 - val_loss: 179.2988\nEpoch 202/400\n23/23 - 0s - loss: 16.3505 - val_loss: 183.6822\nEpoch 203/400\n23/23 - 0s - loss: 16.1507 - val_loss: 180.0150\nEpoch 204/400\n23/23 - 0s - loss: 15.9906 - val_loss: 174.4416\nEpoch 205/400\n23/23 - 0s - loss: 16.8399 - val_loss: 178.2376\nEpoch 206/400\n23/23 - 0s - loss: 15.9568 - val_loss: 178.9934\nEpoch 207/400\n23/23 - 0s - loss: 15.9915 - val_loss: 178.3305\nEpoch 208/400\n23/23 - 0s - loss: 15.8717 - val_loss: 179.5169\nEpoch 209/400\n23/23 - 0s - loss: 16.5214 - val_loss: 190.7523\nEpoch 210/400\n23/23 - 0s - loss: 15.9269 - val_loss: 186.9866\nEpoch 211/400\n23/23 - 0s - loss: 16.3472 - val_loss: 183.3506\nEpoch 212/400\n23/23 - 0s - loss: 15.8135 - val_loss: 172.8896\nEpoch 213/400\n23/23 - 0s - loss: 16.4448 - val_loss: 171.6747\nEpoch 214/400\n23/23 - 0s - loss: 16.2927 - val_loss: 173.1137\nEpoch 215/400\n23/23 - 0s - loss: 15.8343 - val_loss: 186.3801\nEpoch 216/400\n23/23 - 0s - loss: 15.9011 - val_loss: 176.7157\nEpoch 217/400\n23/23 - 0s - loss: 15.8292 - val_loss: 183.9461\nEpoch 218/400\n23/23 - 0s - loss: 15.8545 - val_loss: 187.8045\nEpoch 219/400\n23/23 - 0s - loss: 15.9664 - val_loss: 192.6868\nEpoch 220/400\n23/23 - 0s - loss: 15.8906 - val_loss: 186.0527\nEpoch 221/400\n23/23 - 0s - loss: 15.8073 - val_loss: 188.4557\nEpoch 222/400\n23/23 - 0s - loss: 15.3111 - val_loss: 185.9256\nEpoch 223/400\n23/23 - 0s - loss: 15.7394 - val_loss: 193.8825\nEpoch 224/400\n23/23 - 0s - loss: 16.0045 - val_loss: 180.7700\nEpoch 225/400\n23/23 - 0s - loss: 15.4613 - val_loss: 179.8872\nEpoch 226/400\n23/23 - 0s - loss: 15.3306 - val_loss: 176.8859\nEpoch 227/400\n23/23 - 0s - loss: 15.2518 - val_loss: 186.8920\nEpoch 228/400\n23/23 - 0s - loss: 15.2816 - val_loss: 192.3446\nEpoch 229/400\n23/23 - 0s - loss: 15.6828 - val_loss: 180.6425\nEpoch 230/400\n23/23 - 0s - loss: 15.7937 - val_loss: 186.6083\nEpoch 231/400\n23/23 - 0s - loss: 15.1026 - val_loss: 194.2829\nEpoch 232/400\n23/23 - 0s - loss: 15.4400 - val_loss: 184.3509\nEpoch 233/400\n23/23 - 0s - loss: 15.1718 - val_loss: 193.0387\nEpoch 234/400\n23/23 - 0s - loss: 15.4623 - val_loss: 191.0428\nEpoch 235/400\n23/23 - 0s - loss: 15.1134 - val_loss: 168.8181\nEpoch 236/400\n23/23 - 0s - loss: 15.1845 - val_loss: 197.0525\nEpoch 237/400\n23/23 - 0s - loss: 15.3460 - val_loss: 186.1821\nEpoch 238/400\n23/23 - 0s - loss: 15.0198 - val_loss: 182.2991\nEpoch 239/400\n23/23 - 0s - loss: 15.2730 - val_loss: 173.6381\nEpoch 240/400\n23/23 - 0s - loss: 14.9569 - val_loss: 176.5624\nEpoch 241/400\n23/23 - 0s - loss: 15.2995 - val_loss: 201.1980\nEpoch 242/400\n23/23 - 0s - loss: 15.1580 - val_loss: 188.7639\nEpoch 243/400\n23/23 - 0s - loss: 14.6164 - val_loss: 176.6499\nEpoch 244/400\n23/23 - 0s - loss: 14.8900 - val_loss: 190.1597\nEpoch 245/400\n23/23 - 0s - loss: 14.7960 - val_loss: 190.7145\nEpoch 246/400\n23/23 - 0s - loss: 15.3102 - val_loss: 196.9463\nEpoch 247/400\n23/23 - 0s - loss: 15.3297 - val_loss: 190.7979\nEpoch 248/400\n23/23 - 0s - loss: 14.7322 - val_loss: 198.1985\nEpoch 249/400\n23/23 - 0s - loss: 15.4040 - val_loss: 199.3687\nEpoch 250/400\n23/23 - 0s - loss: 14.6227 - val_loss: 195.9621\nEpoch 251/400\n23/23 - 0s - loss: 14.4989 - val_loss: 195.2775\nEpoch 252/400\n23/23 - 0s - loss: 14.4983 - val_loss: 206.3859\nEpoch 253/400\n23/23 - 0s - loss: 15.3362 - val_loss: 201.0294\nEpoch 254/400\n23/23 - 0s - loss: 14.6657 - val_loss: 191.0795\nEpoch 255/400\n23/23 - 0s - loss: 14.7921 - val_loss: 172.0464\nEpoch 256/400\n23/23 - 0s - loss: 14.7734 - val_loss: 178.7857\nEpoch 257/400\n23/23 - 0s - loss: 13.9917 - val_loss: 183.1773\nEpoch 258/400\n23/23 - 0s - loss: 14.3900 - val_loss: 181.1523\nEpoch 259/400\n23/23 - 0s - loss: 14.9467 - val_loss: 182.7322\nEpoch 260/400\n23/23 - 0s - loss: 14.2591 - val_loss: 200.1693\nEpoch 261/400\n23/23 - 0s - loss: 14.9857 - val_loss: 206.0163\nEpoch 262/400\n23/23 - 0s - loss: 15.2624 - val_loss: 183.5706\nEpoch 263/400\n23/23 - 0s - loss: 15.1010 - val_loss: 173.4102\nEpoch 264/400\n23/23 - 0s - loss: 14.6131 - val_loss: 178.2253\nEpoch 265/400\n23/23 - 0s - loss: 14.8394 - val_loss: 195.3662\nEpoch 266/400\n23/23 - 0s - loss: 14.7625 - val_loss: 188.2994\nEpoch 267/400\n23/23 - 0s - loss: 14.1081 - val_loss: 184.8414\nEpoch 268/400\n23/23 - 0s - loss: 14.2675 - val_loss: 189.6130\nEpoch 269/400\n23/23 - 0s - loss: 14.1688 - val_loss: 184.3048\nEpoch 270/400\n23/23 - 0s - loss: 13.8559 - val_loss: 178.3755\nEpoch 271/400\n23/23 - 0s - loss: 14.2148 - val_loss: 196.9525\nEpoch 272/400\n23/23 - 0s - loss: 14.3444 - val_loss: 201.8008\nEpoch 273/400\n23/23 - 0s - loss: 14.1229 - val_loss: 191.9796\nEpoch 274/400\n23/23 - 0s - loss: 14.1500 - val_loss: 184.2627\nEpoch 275/400\n23/23 - 0s - loss: 14.1604 - val_loss: 186.2945\nEpoch 276/400\n23/23 - 0s - loss: 14.4030 - val_loss: 196.1376\nEpoch 277/400\n23/23 - 0s - loss: 14.3427 - val_loss: 191.5247\nEpoch 278/400\n23/23 - 0s - loss: 13.8438 - val_loss: 191.9321\nEpoch 279/400\n23/23 - 0s - loss: 14.1810 - val_loss: 178.1501\nEpoch 280/400\n23/23 - 0s - loss: 14.2549 - val_loss: 183.1020\nEpoch 281/400\n23/23 - 0s - loss: 14.5778 - val_loss: 190.7018\nEpoch 282/400\n23/23 - 0s - loss: 13.9893 - val_loss: 180.6913\nEpoch 283/400\n23/23 - 0s - loss: 13.9445 - val_loss: 194.0320\nEpoch 284/400\n23/23 - 0s - loss: 13.7459 - val_loss: 205.9647\nEpoch 285/400\n23/23 - 0s - loss: 14.3367 - val_loss: 194.7287\nEpoch 286/400\n23/23 - 0s - loss: 13.8952 - val_loss: 191.2909\nEpoch 287/400\n23/23 - 0s - loss: 13.7097 - val_loss: 195.2923\nEpoch 288/400\n23/23 - 0s - loss: 13.9602 - val_loss: 190.7874\nEpoch 289/400\n23/23 - 0s - loss: 13.4484 - val_loss: 179.3405\nEpoch 290/400\n23/23 - 0s - loss: 13.8003 - val_loss: 185.4412\nEpoch 291/400\n23/23 - 0s - loss: 13.3738 - val_loss: 204.5398\nEpoch 292/400\n23/23 - 0s - loss: 14.0079 - val_loss: 193.7122\nEpoch 293/400\n23/23 - 0s - loss: 13.7059 - val_loss: 183.7537\nEpoch 294/400\n23/23 - 0s - loss: 13.7600 - val_loss: 194.9068\nEpoch 295/400\n23/23 - 0s - loss: 13.6041 - val_loss: 199.5986\nEpoch 296/400\n23/23 - 0s - loss: 13.5057 - val_loss: 177.4518\nEpoch 297/400\n23/23 - 0s - loss: 13.7506 - val_loss: 188.3989\nEpoch 298/400\n23/23 - 0s - loss: 14.0094 - val_loss: 210.3933\nEpoch 299/400\n23/23 - 0s - loss: 14.1803 - val_loss: 185.3796\nEpoch 300/400\n23/23 - 0s - loss: 13.7474 - val_loss: 186.1334\nEpoch 301/400\n23/23 - 0s - loss: 13.6045 - val_loss: 189.3091\nEpoch 302/400\n23/23 - 0s - loss: 13.7392 - val_loss: 184.6034\nEpoch 303/400\n23/23 - 0s - loss: 13.4121 - val_loss: 196.7989\nEpoch 304/400\n23/23 - 0s - loss: 13.6741 - val_loss: 176.6224\nEpoch 305/400\n23/23 - 0s - loss: 14.3428 - val_loss: 204.4815\nEpoch 306/400\n23/23 - 0s - loss: 13.6802 - val_loss: 195.9500\nEpoch 307/400\n23/23 - 0s - loss: 13.9595 - val_loss: 190.1862\nEpoch 308/400\n23/23 - 0s - loss: 13.4392 - val_loss: 184.5150\nEpoch 309/400\n23/23 - 0s - loss: 13.3033 - val_loss: 177.8725\nEpoch 310/400\n23/23 - 0s - loss: 13.5570 - val_loss: 188.8246\nEpoch 311/400\n23/23 - 0s - loss: 13.8873 - val_loss: 180.6821\nEpoch 312/400\n23/23 - 0s - loss: 14.2268 - val_loss: 193.8030\nEpoch 313/400\n23/23 - 0s - loss: 13.3554 - val_loss: 196.1289\nEpoch 314/400\n23/23 - 0s - loss: 13.5081 - val_loss: 183.9581\nEpoch 315/400\n23/23 - 0s - loss: 13.1229 - val_loss: 195.8561\nEpoch 316/400\n23/23 - 0s - loss: 13.7756 - val_loss: 194.9346\nEpoch 317/400\n23/23 - 0s - loss: 13.3540 - val_loss: 180.9534\nEpoch 318/400\n23/23 - 0s - loss: 13.5111 - val_loss: 176.3827\nEpoch 319/400\n23/23 - 0s - loss: 13.2795 - val_loss: 182.8500\nEpoch 320/400\n23/23 - 0s - loss: 13.0539 - val_loss: 193.7973\nEpoch 321/400\n23/23 - 0s - loss: 13.1026 - val_loss: 189.7780\nEpoch 322/400\n23/23 - 0s - loss: 13.0719 - val_loss: 187.0356\nEpoch 323/400\n23/23 - 0s - loss: 13.2389 - val_loss: 181.9610\nEpoch 324/400\n23/23 - 0s - loss: 13.2994 - val_loss: 177.3347\nEpoch 325/400\n23/23 - 0s - loss: 13.2196 - val_loss: 208.2325\nEpoch 326/400\n23/23 - 0s - loss: 13.5162 - val_loss: 207.4836\nEpoch 327/400\n23/23 - 0s - loss: 13.2196 - val_loss: 187.7950\nEpoch 328/400\n23/23 - 0s - loss: 12.9795 - val_loss: 176.5604\nEpoch 329/400\n23/23 - 0s - loss: 13.8385 - val_loss: 179.5837\nEpoch 330/400\n23/23 - 0s - loss: 13.0722 - val_loss: 185.4211\nEpoch 331/400\n23/23 - 0s - loss: 13.1594 - val_loss: 180.3244\nEpoch 332/400\n23/23 - 0s - loss: 13.3442 - val_loss: 204.4141\nEpoch 333/400\n23/23 - 0s - loss: 12.9108 - val_loss: 186.6764\nEpoch 334/400\n23/23 - 0s - loss: 12.8831 - val_loss: 195.6388\nEpoch 335/400\n23/23 - 0s - loss: 12.9802 - val_loss: 201.0580\nEpoch 336/400\n23/23 - 0s - loss: 12.9029 - val_loss: 197.2118\nEpoch 337/400\n23/23 - 0s - loss: 12.9554 - val_loss: 194.2912\nEpoch 338/400\n23/23 - 0s - loss: 13.5655 - val_loss: 194.5520\nEpoch 339/400\n23/23 - 0s - loss: 13.1240 - val_loss: 188.8407\nEpoch 340/400\n23/23 - 0s - loss: 13.2822 - val_loss: 183.5663\nEpoch 341/400\n23/23 - 0s - loss: 13.0696 - val_loss: 180.4051\nEpoch 342/400\n23/23 - 0s - loss: 12.8799 - val_loss: 185.8768\nEpoch 343/400\n23/23 - 0s - loss: 12.6179 - val_loss: 200.7860\nEpoch 344/400\n23/23 - 0s - loss: 12.6540 - val_loss: 198.1328\nEpoch 345/400\n23/23 - 0s - loss: 13.0180 - val_loss: 179.4617\nEpoch 346/400\n23/23 - 0s - loss: 12.9772 - val_loss: 183.3943\nEpoch 347/400\n23/23 - 0s - loss: 13.0310 - val_loss: 191.6087\nEpoch 348/400\n23/23 - 0s - loss: 13.9318 - val_loss: 219.2942\nEpoch 349/400\n23/23 - 0s - loss: 14.3241 - val_loss: 216.4420\nEpoch 350/400\n23/23 - 0s - loss: 12.8346 - val_loss: 190.5921\nEpoch 351/400\n23/23 - 0s - loss: 13.1233 - val_loss: 183.1105\nEpoch 352/400\n23/23 - 0s - loss: 12.6283 - val_loss: 184.7519\nEpoch 353/400\n23/23 - 0s - loss: 12.5775 - val_loss: 191.5420\nEpoch 354/400\n23/23 - 0s - loss: 13.0525 - val_loss: 175.2599\nEpoch 355/400\n23/23 - 0s - loss: 12.7114 - val_loss: 198.9180\nEpoch 356/400\n23/23 - 0s - loss: 12.4505 - val_loss: 190.1383\nEpoch 357/400\n23/23 - 0s - loss: 12.4982 - val_loss: 192.9797\nEpoch 358/400\n23/23 - 0s - loss: 12.4997 - val_loss: 186.5998\nEpoch 359/400\n23/23 - 0s - loss: 12.4651 - val_loss: 190.9998\nEpoch 360/400\n23/23 - 0s - loss: 12.8081 - val_loss: 187.4134\nEpoch 361/400\n23/23 - 0s - loss: 12.7753 - val_loss: 195.0656\nEpoch 362/400\n23/23 - 0s - loss: 13.3601 - val_loss: 203.2513\nEpoch 363/400\n23/23 - 0s - loss: 12.4579 - val_loss: 197.7414\nEpoch 364/400\n23/23 - 0s - loss: 12.4325 - val_loss: 191.7608\nEpoch 365/400\n23/23 - 0s - loss: 12.7910 - val_loss: 189.4102\nEpoch 366/400\n23/23 - 0s - loss: 12.7722 - val_loss: 198.9798\nEpoch 367/400\n23/23 - 0s - loss: 12.4191 - val_loss: 182.6793\nEpoch 368/400\n23/23 - 0s - loss: 13.4300 - val_loss: 174.4764\nEpoch 369/400\n23/23 - 0s - loss: 12.4906 - val_loss: 188.0870\nEpoch 370/400\n23/23 - 0s - loss: 12.5469 - val_loss: 185.0496\nEpoch 371/400\n23/23 - 0s - loss: 12.5508 - val_loss: 180.6051\nEpoch 372/400\n23/23 - 0s - loss: 12.4464 - val_loss: 190.7315\nEpoch 373/400\n23/23 - 0s - loss: 12.3657 - val_loss: 195.6778\nEpoch 374/400\n23/23 - 0s - loss: 12.2466 - val_loss: 186.7575\nEpoch 375/400\n23/23 - 0s - loss: 12.3342 - val_loss: 182.6702\nEpoch 376/400\n23/23 - 0s - loss: 12.9856 - val_loss: 185.8932\nEpoch 377/400\n23/23 - 0s - loss: 12.2169 - val_loss: 183.0786\nEpoch 378/400\n23/23 - 0s - loss: 12.4185 - val_loss: 195.7099\nEpoch 379/400\n23/23 - 0s - loss: 12.3700 - val_loss: 194.1278\nEpoch 380/400\n23/23 - 0s - loss: 12.1771 - val_loss: 188.9581\nEpoch 381/400\n23/23 - 0s - loss: 12.1999 - val_loss: 199.0587\nEpoch 382/400\n23/23 - 0s - loss: 12.2143 - val_loss: 171.2766\nEpoch 383/400\n23/23 - 0s - loss: 12.2573 - val_loss: 199.5460\nEpoch 384/400\n23/23 - 0s - loss: 12.0836 - val_loss: 201.8226\nEpoch 385/400\n23/23 - 0s - loss: 12.2604 - val_loss: 190.5776\nEpoch 386/400\n23/23 - 0s - loss: 12.5247 - val_loss: 203.2063\nEpoch 387/400\n23/23 - 0s - loss: 12.2231 - val_loss: 203.6714\nEpoch 388/400\n23/23 - 0s - loss: 12.1834 - val_loss: 194.8177\nEpoch 389/400\n23/23 - 0s - loss: 12.3315 - val_loss: 185.1956\nEpoch 390/400\n23/23 - 0s - loss: 12.1904 - val_loss: 184.6399\nEpoch 391/400\n23/23 - 0s - loss: 12.5502 - val_loss: 195.3225\nEpoch 392/400\n23/23 - 0s - loss: 11.9213 - val_loss: 185.1113\nEpoch 393/400\n23/23 - 0s - loss: 12.3322 - val_loss: 172.0707\nEpoch 394/400\n23/23 - 0s - loss: 12.5752 - val_loss: 190.4088\nEpoch 395/400\n23/23 - 0s - loss: 11.8852 - val_loss: 189.8435\nEpoch 396/400\n23/23 - 0s - loss: 11.8088 - val_loss: 197.7446\nEpoch 397/400\n23/23 - 0s - loss: 11.8552 - val_loss: 191.9043\nEpoch 398/400\n23/23 - 0s - loss: 12.0978 - val_loss: 193.1925\nEpoch 399/400\n23/23 - 0s - loss: 11.9619 - val_loss: 195.3837\nEpoch 400/400\n23/23 - 0s - loss: 11.9093 - val_loss: 184.1977\n"
    },
    {
     "output_type": "execute_result",
     "data": {
      "text/plain": "<tensorflow.python.keras.callbacks.History at 0x14e1ae110>"
     },
     "metadata": {},
     "execution_count": 36
    }
   ],
   "source": [
    "# fit the model\n",
    "model.fit(predictors_norm, target, validation_split=0.3, epochs=400, verbose=2)"
   ]
  },
  {
   "cell_type": "markdown",
   "metadata": {
    "button": false,
    "deletable": true,
    "new_sheet": false,
    "run_control": {
     "read_only": false
    }
   },
   "source": [
    "<strong>You can refer to this [link](https://keras.io/models/sequential/) to learn about other functions that you can use for prediction or evaluation.</strong>"
   ]
  },
  {
   "cell_type": "markdown",
   "metadata": {
    "button": false,
    "deletable": true,
    "new_sheet": false,
    "run_control": {
     "read_only": false
    }
   },
   "source": [
    "Feel free to vary the following and note what impact each change has on the model's performance:\n",
    "\n",
    "1. Increase or decreate number of neurons in hidden layers\n",
    "2. Add more hidden layers\n",
    "3. Increase number of epochs"
   ]
  },
  {
   "cell_type": "markdown",
   "metadata": {
    "button": false,
    "deletable": true,
    "new_sheet": false,
    "run_control": {
     "read_only": false
    }
   },
   "source": [
    "### Thank you for completing this lab!\n",
    "\n",
    "This notebook was created by [Alex Aklson](https://www.linkedin.com/in/aklson/). I hope you found this lab interesting and educational. Feel free to contact me if you have any questions!"
   ]
  },
  {
   "cell_type": "markdown",
   "metadata": {
    "button": false,
    "deletable": true,
    "new_sheet": false,
    "run_control": {
     "read_only": false
    }
   },
   "source": [
    "This notebook is part of a course on **Coursera** called *Introduction to Deep Learning & Neural Networks with Keras*. If you accessed this notebook outside the course, you can take this course online by clicking [here](https://cocl.us/DL0101EN_Coursera_Week3_LAB1)."
   ]
  },
  {
   "cell_type": "markdown",
   "metadata": {
    "button": false,
    "deletable": true,
    "new_sheet": false,
    "run_control": {
     "read_only": false
    }
   },
   "source": [
    "<hr>\n",
    "\n",
    "Copyright &copy; 2019 [IBM Developer Skills Network](https://cognitiveclass.ai/?utm_source=bducopyrightlink&utm_medium=dswb&utm_campaign=bdu). This notebook and its source code are released under the terms of the [MIT License](https://bigdatauniversity.com/mit-license/)."
   ]
  }
 ],
 "metadata": {
  "kernelspec": {
   "display_name": "Python 3.7.4 64-bit ('ML': venv)",
   "language": "python",
   "name": "python_defaultSpec_1600738935645"
  },
  "language_info": {
   "codemirror_mode": {
    "name": "ipython",
    "version": 3
   },
   "file_extension": ".py",
   "mimetype": "text/x-python",
   "name": "python",
   "nbconvert_exporter": "python",
   "pygments_lexer": "ipython3",
   "version": "3.7.4-final"
  }
 },
 "nbformat": 4,
 "nbformat_minor": 4
}