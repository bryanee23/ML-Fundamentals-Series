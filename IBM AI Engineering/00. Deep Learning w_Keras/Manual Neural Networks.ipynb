{
 "metadata": {
  "language_info": {
   "codemirror_mode": {
    "name": "ipython",
    "version": 3
   },
   "file_extension": ".py",
   "mimetype": "text/x-python",
   "name": "python",
   "nbconvert_exporter": "python",
   "pygments_lexer": "ipython3",
   "version": "3.7.4-final"
  },
  "orig_nbformat": 2,
  "kernelspec": {
   "name": "python_defaultSpec_1600648271249",
   "display_name": "Python 3.7.4 64-bit ('ML': venv)"
  }
 },
 "nbformat": 4,
 "nbformat_minor": 2,
 "cells": [
  {
   "cell_type": "markdown",
   "metadata": {},
   "source": [
    "# Artificial Neural Networks - Forward Propagation\n",
    "---\n",
    "## From the docs:\n",
    "> numpy.around(a, decimals=0, out=None)\n",
    "\n",
    "> Evenly round to the given number of decimals.\n",
    "\n",
    "> - Parameters:\n",
    "\n",
    "> > a : Input data.\n",
    "\n",
    "> > decimals : int, optional\n",
    "\n",
    "<br>\n",
    "\n",
    "> numpy.random.uniform(low=0.0, high=1.0, size=None)\n",
    "\n",
    "> Draw samples from a uniform distribution.\n",
    "\n",
    "> - Parameters:\n",
    "\n",
    "> > size : int"
   ]
  },
  {
   "cell_type": "markdown",
   "metadata": {},
   "source": [
    "<img src=\"http://cocl.us/neural_network_example\" alt=\"Neural Network Example\" width=600px>"
   ]
  },
  {
   "cell_type": "markdown",
   "metadata": {},
   "source": [
    "## Artificial Neural Networks - Manually\n",
    "\n",
    "- Functions needed: create_network, calculate weighted sum, calculate activation, forward propagation\n",
    "\n",
    "Calling functions:\n",
    "- create network with following paramaters(input number, hidden layers, number of nodes per layer, number of outputs)\n",
    "- create random inputs\n",
    "\n",
    "\n",
    "\n",
    "- decide the number of inputs to the Neural Network (n)\n",
    "\n",
    "- decide on activation function    \n",
    "    -Activation functions decide whether a neuron should be activated or not.\n",
    "\n",
    "- initialize random values for the weights and biases Neural Networks\n",
    "\n",
    "- compute weighed sum at node\n",
    "\n",
    "- compute activation value at output of node in the hidden layers\n",
    "$activation func: sigmoid func = \\frac{1}{(1 + e^{-z})}$\n",
    "\n",
    "- continue until output layer is reached"
   ]
  },
  {
   "cell_type": "code",
   "execution_count": 138,
   "metadata": {
    "tags": []
   },
   "outputs": [],
   "source": [
    "import numpy as np \n",
    "from random import seed\n",
    "\n",
    "def create_network(num_inputs, num_hidden_layers, num_nodes_per_hidden, output):\n",
    "    num_previous = num_inputs\n",
    "    neural_network = {}\n",
    "\n",
    "    for layer in range(num_hidden_layers + 1):\n",
    "        if layer == num_hidden_layers:\n",
    "            layer_name = 'output'\n",
    "            num_nodes = output\n",
    "        else:\n",
    "            layer_name = 'layer_{}'.format(layer)\n",
    "            num_nodes = num_nodes_per_hidden[layer]\n",
    "\n",
    "        neural_network[layer_name] = {}\n",
    "        for node in range(num_nodes):\n",
    "            node_name = 'node_{}'.format(node+1)\n",
    "            neural_network[layer_name][node_name] = {\n",
    "                'weights': np.around(np.random.uniform(size=num_previous), decimals=2),\n",
    "                'bias': np.around(np.random.uniform(size=1), decimals=2),\n",
    "            }\n",
    "        num_previous = num_nodes\n",
    "        \n",
    "    return neural_network\n",
    "\n",
    "\n",
    "def compute_weighted_sum(inputs, weights, bias):\n",
    "    return np.sum(inputs * weights ) + bias\n",
    "\n",
    "def node_activation(weighted_sum):\n",
    "    return np.around(1.0 / (1.0 + np.exp(-1 * weighted_sum)), decimals=3)\n",
    "\n",
    "def forward_propagate(network, inputs):   \n",
    "    layer_inputs = list(inputs)\n",
    "    \n",
    "    for layer in network:\n",
    "        layer_data = network[layer]\n",
    "        \n",
    "        layer_outputs = [] \n",
    "        for layer_node in layer_data:\n",
    "        \n",
    "            node_data = layer_data[layer_node]\n",
    "\n",
    "            weighted_sum = compute_weighted_sum(layer_inputs, node_data['weights'], node_data['bias'])\n",
    "           \n",
    "            node_output_list = node_activation(weighted_sum)\n",
    "            layer_outputs.append(np.around(node_output_list[0], decimals=4))\n",
    "            \n",
    "        if layer != 'output':\n",
    "            print('Input: {}, hidden layer number {} output is {}\\n'.format(layer_inputs, layer.split('_')[1], layer_outputs))\n",
    "\n",
    "        layer_inputs = layer_outputs # set the output of this layer to be the input of the weighted sum\n",
    "\n",
    "    network_predictions = layer_outputs\n",
    "\n",
    "    print('Network Prediction: {}'.format(network_predictions))\n",
    "    return network_predictions"
   ]
  },
  {
   "source": [
    "#### Use the *initialize_network* function to create a network that:\n",
    "\n",
    "1. takes 5 inputs\n",
    "2. has three hidden layers\n",
    "3. has 3 nodes in the first layer, 2 nodes in the second layer, and 3 nodes in the third layer\n",
    "4. has 1 node in the output layer\n",
    "\n",
    "Call the network **small_network**."
   ],
   "cell_type": "markdown",
   "metadata": {}
  },
  {
   "cell_type": "code",
   "execution_count": 139,
   "metadata": {
    "tags": []
   },
   "outputs": [
    {
     "output_type": "stream",
     "name": "stdout",
     "text": "Neural Network:\n{'layer_0': {'node_1': {'weights': array([0.75, 0.59, 0.33, 0.74, 0.69]), 'bias': array([0.06])}, 'node_2': {'weights': array([0.26, 0.05, 0.24, 0.4 , 0.64]), 'bias': array([0.52])}, 'node_3': {'weights': array([0.45, 0.06, 0.12, 0.59, 0.89]), 'bias': array([0.63])}}, 'layer_1': {'node_1': {'weights': array([0.43, 0.63, 0.49]), 'bias': array([0.96])}, 'node_2': {'weights': array([0.26, 0.79, 0.61]), 'bias': array([0.53])}}, 'layer_2': {'node_1': {'weights': array([0.41, 0.03]), 'bias': array([0.26])}, 'node_2': {'weights': array([0.22, 0.36]), 'bias': array([0.55])}, 'node_3': {'weights': array([0.5 , 0.28]), 'bias': array([0.44])}}, 'output': {'node_1': {'weights': array([0.35, 0.74, 0.73]), 'bias': array([0.5])}}}\n\n\nInital Input into NN: [0.669 0.748 0.007 0.074 0.509]\n\nInput: [0.669, 0.748, 0.007, 0.074, 0.509], hidden layer number 0 output is [0.804, 0.748, 0.814]\n\nInput: [0.804, 0.748, 0.814], hidden layer number 1 output is [0.898, 0.861]\n\nInput: [0.898, 0.861], hidden layer number 2 output is [0.658, 0.742, 0.756]\n\nNetwork Prediction: [0.862]\n"
    }
   ],
   "source": [
    "my_network = create_network(5, 3, [3, 2, 3], 1)\n",
    "print('Neural Network:\\n{}\\n\\n'.format(my_network))\n",
    "\n",
    "# set random values to be inserted into NN\n",
    "inputs = np.around(np.random.uniform(size=5), decimals=3)\n",
    "print('Inital Input into NN: {}\\n'.format(inputs))\n",
    "\n",
    "predictions = forward_propagate(my_network, inputs)"
   ]
  }
 ]
}